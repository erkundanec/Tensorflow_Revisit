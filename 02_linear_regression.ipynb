{
 "cells": [
  {
   "cell_type": "markdown",
   "metadata": {},
   "source": [
    "# Linear Regression Example\n",
    "\n",
    "Linear regression implementation with TensorFlow v2 library.\n",
    "\n",
    "This example is using a low-level approach to better understand all mechanics behind the training process."
   ]
  },
  {
   "cell_type": "code",
   "execution_count": 1,
   "metadata": {},
   "outputs": [],
   "source": [
    "from __future__ import absolute_import, division, print_function"
   ]
  },
  {
   "cell_type": "code",
   "execution_count": 2,
   "metadata": {},
   "outputs": [],
   "source": [
    "import tensorflow as tf\n",
    "import numpy as np\n",
    "from matplotlib import pyplot as plt\n",
    "rng = np.random"
   ]
  },
  {
   "cell_type": "code",
   "execution_count": 3,
   "metadata": {},
   "outputs": [
    {
     "name": "stdout",
     "output_type": "stream",
     "text": [
      "Tensorflow version installed 2.10.1\n"
     ]
    }
   ],
   "source": [
    "print(f\"Tensorflow version installed {tf.__version__}\")"
   ]
  },
  {
   "cell_type": "code",
   "execution_count": 4,
   "metadata": {},
   "outputs": [
    {
     "name": "stdout",
     "output_type": "stream",
     "text": [
      "<module 'numpy.random' from 'c:\\\\Users\\\\erkun\\\\anaconda3\\\\envs\\\\tf\\\\lib\\\\site-packages\\\\numpy\\\\random\\\\__init__.py'>\n"
     ]
    }
   ],
   "source": [
    "print(rng)"
   ]
  },
  {
   "cell_type": "code",
   "execution_count": 5,
   "metadata": {},
   "outputs": [
    {
     "data": {
      "text/plain": [
       "0.5854229444538173"
      ]
     },
     "execution_count": 5,
     "metadata": {},
     "output_type": "execute_result"
    }
   ],
   "source": [
    "rng.randn()"
   ]
  },
  {
   "cell_type": "code",
   "execution_count": 6,
   "metadata": {},
   "outputs": [],
   "source": [
    "# Parameters.\n",
    "learning_rate = 0.01\n",
    "training_steps = 1000\n",
    "display_step = 50"
   ]
  },
  {
   "cell_type": "code",
   "execution_count": 7,
   "metadata": {},
   "outputs": [],
   "source": [
    "# Training Data.\n",
    "X = np.array([3.3,4.4,5.5,6.71,6.93,4.168,9.779,6.182,7.59,2.167,\n",
    "              7.042,10.791,5.313,7.997,5.654,9.27,3.1])\n",
    "Y = np.array([1.7,2.76,2.09,3.19,1.694,1.573,3.366,2.596,2.53,1.221,\n",
    "              2.827,3.465,1.65,2.904,2.42,2.94,1.3])\n"
   ]
  },
  {
   "cell_type": "code",
   "execution_count": 8,
   "metadata": {},
   "outputs": [
    {
     "data": {
      "image/png": "[encoded data removed]",
      "text/plain": [
       "<Figure size 640x480 with 1 Axes>"
      ]
     },
     "metadata": {},
     "output_type": "display_data"
    }
   ],
   "source": [
    "%matplotlib inline\n",
    "plt.plot(X,Y,'ro', label='Original data')\n",
    "plt.show()"
   ]
  },
  {
   "cell_type": "code",
   "execution_count": 9,
   "metadata": {},
   "outputs": [],
   "source": [
    "# Weight and Bias, initialized randomly.\n",
    "W = tf.Variable(rng.randn(), name=\"weight\")\n",
    "b = tf.Variable(rng.randn(), name=\"bias\")\n",
    "\n",
    "# Linear regression (Wx + b).\n",
    "def linear_regression(x):\n",
    "    return W * x + b\n",
    "\n",
    "# Mean square error.\n",
    "def mean_square(y_pred, y_true):\n",
    "    return tf.reduce_mean(tf.square(y_pred - y_true))\n",
    "\n",
    "# Stochastic Gradient Descent Optimizer.\n",
    "optimizer = tf.optimizers.SGD(learning_rate)"
   ]
  },
  {
   "cell_type": "code",
   "execution_count": 10,
   "metadata": {},
   "outputs": [],
   "source": [
    "# Optimization process. \n",
    "def run_optimization():\n",
    "    # Wrap computation inside a GradientTape for automatic differentiation.\n",
    "    with tf.GradientTape() as g:\n",
    "        pred = linear_regression(X)\n",
    "        loss = mean_square(pred, Y)\n",
    "\n",
    "    # Compute gradients.\n",
    "    gradients = g.gradient(loss, [W, b])\n",
    "    \n",
    "    # Update W and b following gradients.\n",
    "    optimizer.apply_gradients(zip(gradients, [W, b]))"
   ]
  },
  {
   "cell_type": "code",
   "execution_count": 11,
   "metadata": {},
   "outputs": [
    {
     "name": "stdout",
     "output_type": "stream",
     "text": [
      "step: 50, loss: 0.271336, W: 0.389040, b: -0.175341\n",
      "step: 100, loss: 0.245987, W: 0.373316, b: -0.063864\n",
      "step: 150, loss: 0.226108, W: 0.359391, b: 0.034856\n",
      "step: 200, loss: 0.210518, W: 0.347060, b: 0.122279\n",
      "step: 250, loss: 0.198292, W: 0.336140, b: 0.199697\n",
      "step: 300, loss: 0.188704, W: 0.326470, b: 0.268256\n",
      "step: 350, loss: 0.181185, W: 0.317906, b: 0.328970\n",
      "step: 400, loss: 0.175288, W: 0.310322, b: 0.382735\n",
      "step: 450, loss: 0.170664, W: 0.303606, b: 0.430348\n",
      "step: 500, loss: 0.167038, W: 0.297659, b: 0.472513\n",
      "step: 550, loss: 0.164194, W: 0.292392, b: 0.509852\n",
      "step: 600, loss: 0.161964, W: 0.287728, b: 0.542918\n",
      "step: 650, loss: 0.160214, W: 0.283598, b: 0.572200\n",
      "step: 700, loss: 0.158843, W: 0.279940, b: 0.598131\n",
      "step: 750, loss: 0.157767, W: 0.276701, b: 0.621095\n",
      "step: 800, loss: 0.156924, W: 0.273832, b: 0.641431\n",
      "step: 850, loss: 0.156262, W: 0.271292, b: 0.659440\n",
      "step: 900, loss: 0.155743, W: 0.269043, b: 0.675388\n",
      "step: 950, loss: 0.155336, W: 0.267051, b: 0.689511\n",
      "step: 1000, loss: 0.155017, W: 0.265287, b: 0.702018\n"
     ]
    }
   ],
   "source": [
    "# Run training for the given number of steps.\n",
    "for step in range(1, training_steps + 1):\n",
    "    # Run the optimization to update W and b values.\n",
    "    run_optimization()\n",
    "    \n",
    "    if step % display_step == 0:\n",
    "        pred = linear_regression(X)\n",
    "        loss = mean_square(pred, Y)\n",
    "        print(\"step: %i, loss: %f, W: %f, b: %f\" % (step, loss, W.numpy(), b.numpy()))"
   ]
  },
  {
   "cell_type": "code",
   "execution_count": 12,
   "metadata": {},
   "outputs": [],
   "source": [
    "import matplotlib.pyplot as plt"
   ]
  },
  {
   "cell_type": "code",
   "execution_count": 13,
   "metadata": {},
   "outputs": [
    {
     "data": {
      "image/png": "[encoded data removed]",
      "text/plain": [
       "<Figure size 640x480 with 1 Axes>"
      ]
     },
     "metadata": {},
     "output_type": "display_data"
    }
   ],
   "source": [
    "# Graphic display\n",
    "plt.plot(X, Y, 'ro', label='Original data')\n",
    "plt.plot(X, np.array(W * X + b), label='Fitted line')\n",
    "plt.legend()\n",
    "plt.show()"
   ]
  },
  {
   "cell_type": "markdown",
   "metadata": {},
   "source": [
    "## 2D linear regression"
   ]
  },
  {
   "cell_type": "code",
   "execution_count": 1,
   "metadata": {},
   "outputs": [],
   "source": [
    "import  tensorflow as tf\n",
    "import  numpy as np\n",
    "from    tensorflow import keras\n",
    "import  os\n",
    "\n",
    "class Regressor(keras.layers.Layer):\n",
    "\n",
    "    def __init__(self):\n",
    "        super(Regressor, self).__init__()\n",
    "\n",
    "        # here must specify shape instead of tensor !\n",
    "        # name here is meanless !\n",
    "        # [dim_in, dim_out]\n",
    "        self.w = self.add_variable('meanless-name', [13, 1])\n",
    "        # [dim_out]\n",
    "        self.b = self.add_variable('meanless-name', [1])\n",
    "\n",
    "        print(self.w.shape, self.b.shape)\n",
    "        print(type(self.w), tf.is_tensor(self.w), self.w.name)\n",
    "        print(type(self.b), tf.is_tensor(self.b), self.b.name)\n",
    "\n",
    "\n",
    "    def call(self, x):\n",
    "\n",
    "        x = tf.matmul(x, self.w) + self.b\n",
    "\n",
    "        return x"
   ]
  },
  {
   "cell_type": "code",
   "execution_count": 4,
   "metadata": {},
   "outputs": [],
   "source": [
    "def main():\n",
    "\n",
    "    tf.random.set_seed(22)\n",
    "    np.random.seed(22)\n",
    "    os.environ['TF_CPP_MIN_LOG_LEVEL'] = '2'\n",
    "    assert tf.__version__.startswith('2.')\n",
    "\n",
    "\n",
    "    (x_train, y_train), (x_val, y_val) = keras.datasets.boston_housing.load_data()\n",
    "    #\n",
    "    x_train, x_val = x_train.astype(np.float32), x_val.astype(np.float32)\n",
    "    # (404, 13) (404,) (102, 13) (102,)\n",
    "    print(x_train.shape, y_train.shape, x_val.shape, y_val.shape)\n",
    "    # Here has two mis-leading issues:\n",
    "    # 1. (x_train, y_train) cant be written as [x_train, y_train]\n",
    "    # 2.\n",
    "    db_train = tf.data.Dataset.from_tensor_slices((x_train, y_train)).batch(64)\n",
    "    db_val = tf.data.Dataset.from_tensor_slices((x_val, y_val)).batch(102)\n",
    "\n",
    "\n",
    "    model = Regressor()\n",
    "    criteon = keras.losses.MeanSquaredError()\n",
    "    optimizer = keras.optimizers.Adam(learning_rate=1e-2)\n",
    "\n",
    "    for epoch in range(200):\n",
    "\n",
    "        for step, (x, y) in enumerate(db_train):\n",
    "\n",
    "            with tf.GradientTape() as tape:\n",
    "                # [b, 1]\n",
    "                logits = model(x)\n",
    "                # [b]\n",
    "                logits = tf.squeeze(logits, axis=1)\n",
    "                # [b] vs [b]\n",
    "                loss = criteon(y, logits)\n",
    "\n",
    "            grads = tape.gradient(loss, model.trainable_variables)\n",
    "            optimizer.apply_gradients(zip(grads, model.trainable_variables))\n",
    "\n",
    "        print(epoch, 'loss:', loss.numpy())\n",
    "\n",
    "\n",
    "        if epoch % 10 == 0:\n",
    "\n",
    "            for x, y in db_val:\n",
    "                # [b, 1]\n",
    "                logits = model(x)\n",
    "                # [b]\n",
    "                logits = tf.squeeze(logits, axis=1)\n",
    "                # [b] vs [b]\n",
    "                loss = criteon(y, logits)\n",
    "\n",
    "                print(epoch, 'val loss:', loss.numpy())"
   ]
  },
  {
   "cell_type": "code",
   "execution_count": 5,
   "metadata": {},
   "outputs": [
    {
     "name": "stdout",
     "output_type": "stream",
     "text": [
      "(404, 13) (404,) (102, 13) (102,)\n",
      "(404, 13) (404,) (102, 13) (102,)\n"
     ]
    },
    {
     "name": "stderr",
     "output_type": "stream",
     "text": [
      "C:\\Users\\erkun\\AppData\\Local\\Temp\\ipykernel_23248\\3519797190.py:14: UserWarning: `layer.add_variable` is deprecated and will be removed in a future version. Please use the `layer.add_weight()` method instead.\n",
      "  self.w = self.add_variable('meanless-name', [13, 1])\n",
      "C:\\Users\\erkun\\AppData\\Local\\Temp\\ipykernel_23248\\3519797190.py:16: UserWarning: `layer.add_variable` is deprecated and will be removed in a future version. Please use the `layer.add_weight()` method instead.\n",
      "  self.b = self.add_variable('meanless-name', [1])\n"
     ]
    },
    {
     "name": "stdout",
     "output_type": "stream",
     "text": [
      "(13, 1) (1,)\n",
      "<class 'tensorflow.python.ops.resource_variable_ops.ResourceVariable'> True meanless-name:0\n",
      "<class 'tensorflow.python.ops.resource_variable_ops.ResourceVariable'> True meanless-name:0\n",
      "0 loss: 906.79474\n",
      "0 val loss: 775.85004\n",
      "1 loss: 264.68497\n",
      "2 loss: 83.546936\n",
      "3 loss: 107.61782\n",
      "4 loss: 137.67105\n",
      "5 loss: 110.584854\n",
      "6 loss: 75.376564\n",
      "7 loss: 51.315697\n",
      "8 loss: 43.530155\n",
      "9 loss: 38.982094\n",
      "10 loss: 36.185665\n",
      "10 val loss: 89.19365\n",
      "11 loss: 33.983345\n",
      "12 loss: 31.618694\n",
      "13 loss: 29.169277\n",
      "14 loss: 26.614948\n",
      "15 loss: 24.81907\n",
      "16 loss: 23.39144\n",
      "17 loss: 22.365078\n",
      "18 loss: 21.561752\n",
      "19 loss: 20.952972\n",
      "20 loss: 20.54677\n",
      "20 val loss: 67.85405\n",
      "21 loss: 20.300837\n",
      "22 loss: 20.196703\n",
      "23 loss: 20.196255\n",
      "24 loss: 20.276192\n",
      "25 loss: 20.425243\n",
      "26 loss: 20.632702\n",
      "27 loss: 20.886019\n",
      "28 loss: 21.170124\n",
      "29 loss: 21.472748\n",
      "30 loss: 21.78503\n",
      "30 val loss: 57.42205\n",
      "31 loss: 22.100874\n",
      "32 loss: 22.415888\n",
      "33 loss: 22.72546\n",
      "34 loss: 23.025192\n",
      "35 loss: 23.311962\n",
      "36 loss: 23.583622\n",
      "37 loss: 23.83889\n",
      "38 loss: 24.07697\n",
      "39 loss: 24.297382\n",
      "40 loss: 24.499846\n",
      "40 val loss: 51.55807\n",
      "41 loss: 24.684486\n",
      "42 loss: 24.851706\n",
      "43 loss: 25.002136\n",
      "44 loss: 25.136465\n",
      "45 loss: 25.25549\n",
      "46 loss: 25.36008\n",
      "47 loss: 25.451138\n",
      "48 loss: 25.529587\n",
      "49 loss: 25.596352\n",
      "50 loss: 25.652334\n",
      "50 val loss: 47.769283\n",
      "51 loss: 25.698431\n",
      "52 loss: 25.735455\n",
      "53 loss: 25.764246\n",
      "54 loss: 25.785543\n",
      "55 loss: 25.800076\n",
      "56 loss: 25.80849\n",
      "57 loss: 25.811432\n",
      "58 loss: 25.809475\n",
      "59 loss: 25.803127\n",
      "60 loss: 25.792892\n",
      "60 val loss: 45.0717\n",
      "61 loss: 25.779224\n",
      "62 loss: 25.762524\n",
      "63 loss: 25.743137\n",
      "64 loss: 25.721416\n",
      "65 loss: 25.697683\n",
      "66 loss: 25.67221\n",
      "67 loss: 25.645222\n",
      "68 loss: 25.616953\n",
      "69 loss: 25.587626\n",
      "70 loss: 25.557383\n",
      "70 val loss: 43.004337\n",
      "71 loss: 25.526413\n",
      "72 loss: 25.494884\n",
      "73 loss: 25.462896\n",
      "74 loss: 25.430544\n",
      "75 loss: 25.397955\n",
      "76 loss: 25.365253\n",
      "77 loss: 25.332502\n",
      "78 loss: 25.29973\n",
      "79 loss: 25.267033\n",
      "80 loss: 25.234478\n",
      "80 val loss: 41.32843\n",
      "81 loss: 25.202099\n",
      "82 loss: 25.169968\n",
      "83 loss: 25.13808\n",
      "84 loss: 25.10648\n",
      "85 loss: 25.07521\n",
      "86 loss: 25.044294\n",
      "87 loss: 25.013748\n",
      "88 loss: 24.983585\n",
      "89 loss: 24.95383\n",
      "90 loss: 24.924496\n",
      "90 val loss: 39.915497\n",
      "91 loss: 24.895567\n",
      "92 loss: 24.867054\n",
      "93 loss: 24.839012\n",
      "94 loss: 24.8114\n",
      "95 loss: 24.784225\n",
      "96 loss: 24.757498\n",
      "97 loss: 24.731222\n",
      "98 loss: 24.705372\n",
      "99 loss: 24.679985\n",
      "100 loss: 24.655035\n",
      "100 val loss: 38.69304\n",
      "101 loss: 24.630516\n",
      "102 loss: 24.606426\n",
      "103 loss: 24.58279\n",
      "104 loss: 24.559547\n",
      "105 loss: 24.536722\n",
      "106 loss: 24.514318\n",
      "107 loss: 24.492317\n",
      "108 loss: 24.470716\n",
      "109 loss: 24.449501\n",
      "110 loss: 24.428684\n",
      "110 val loss: 37.617035\n",
      "111 loss: 24.408249\n",
      "112 loss: 24.38818\n",
      "113 loss: 24.368473\n",
      "114 loss: 24.34914\n",
      "115 loss: 24.330154\n",
      "116 loss: 24.311514\n",
      "117 loss: 24.293205\n",
      "118 loss: 24.275242\n",
      "119 loss: 24.257597\n",
      "120 loss: 24.240263\n",
      "120 val loss: 36.658554\n",
      "121 loss: 24.223244\n",
      "122 loss: 24.206545\n",
      "123 loss: 24.190142\n",
      "124 loss: 24.17401\n",
      "125 loss: 24.158182\n",
      "126 loss: 24.142643\n",
      "127 loss: 24.127375\n",
      "128 loss: 24.112383\n",
      "129 loss: 24.09763\n",
      "130 loss: 24.083149\n",
      "130 val loss: 35.797237\n",
      "131 loss: 24.068932\n",
      "132 loss: 24.054955\n",
      "133 loss: 24.041237\n",
      "134 loss: 24.027733\n",
      "135 loss: 24.014477\n",
      "136 loss: 24.001448\n",
      "137 loss: 23.988625\n",
      "138 loss: 23.976038\n",
      "139 loss: 23.963673\n",
      "140 loss: 23.951519\n",
      "140 val loss: 35.0181\n",
      "141 loss: 23.939564\n",
      "142 loss: 23.927816\n",
      "143 loss: 23.916248\n",
      "144 loss: 23.904879\n",
      "145 loss: 23.893719\n",
      "146 loss: 23.882734\n",
      "147 loss: 23.87192\n",
      "148 loss: 23.8613\n",
      "149 loss: 23.85086\n",
      "150 loss: 23.840605\n",
      "150 val loss: 34.309635\n",
      "151 loss: 23.830515\n",
      "152 loss: 23.820576\n",
      "153 loss: 23.810818\n",
      "154 loss: 23.801228\n",
      "155 loss: 23.791803\n",
      "156 loss: 23.782509\n",
      "157 loss: 23.773378\n",
      "158 loss: 23.764406\n",
      "159 loss: 23.75558\n",
      "160 loss: 23.746899\n",
      "160 val loss: 33.662807\n",
      "161 loss: 23.738354\n",
      "162 loss: 23.729961\n",
      "163 loss: 23.721712\n",
      "164 loss: 23.713596\n",
      "165 loss: 23.705614\n",
      "166 loss: 23.697758\n",
      "167 loss: 23.690037\n",
      "168 loss: 23.682446\n",
      "169 loss: 23.674992\n",
      "170 loss: 23.667671\n",
      "170 val loss: 33.07029\n",
      "171 loss: 23.66045\n",
      "172 loss: 23.653336\n",
      "173 loss: 23.646368\n",
      "174 loss: 23.63952\n",
      "175 loss: 23.632776\n",
      "176 loss: 23.626158\n",
      "177 loss: 23.619663\n",
      "178 loss: 23.613243\n",
      "179 loss: 23.60694\n",
      "180 loss: 23.600765\n",
      "180 val loss: 32.526028\n",
      "181 loss: 23.59469\n",
      "182 loss: 23.588724\n",
      "183 loss: 23.58286\n",
      "184 loss: 23.577091\n",
      "185 loss: 23.571423\n",
      "186 loss: 23.565859\n",
      "187 loss: 23.560398\n",
      "188 loss: 23.555012\n",
      "189 loss: 23.549738\n",
      "190 loss: 23.544556\n",
      "190 val loss: 32.02485\n",
      "191 loss: 23.53947\n",
      "192 loss: 23.534477\n",
      "193 loss: 23.529552\n",
      "194 loss: 23.52474\n",
      "195 loss: 23.52001\n",
      "196 loss: 23.515364\n",
      "197 loss: 23.510813\n",
      "198 loss: 23.506344\n",
      "199 loss: 23.50194\n"
     ]
    }
   ],
   "source": [
    "main()"
   ]
  }
 ],
 "metadata": {
  "kernelspec": {
   "display_name": "tf",
   "language": "python",
   "name": "python3"
  },
  "language_info": {
   "codemirror_mode": {
    "name": "ipython",
    "version": 3
   },
   "file_extension": ".py",
   "mimetype": "text/x-python",
   "name": "python",
   "nbconvert_exporter": "python",
   "pygments_lexer": "ipython3",
   "version": "3.9.16"
  }
 },
 "nbformat": 4,
 "nbformat_minor": 2
}
